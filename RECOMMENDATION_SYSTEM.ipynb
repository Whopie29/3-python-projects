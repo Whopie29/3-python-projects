{
  "nbformat": 4,
  "nbformat_minor": 0,
  "metadata": {
    "colab": {
      "provenance": [],
      "authorship_tag": "ABX9TyO0Mj77+GN1S5VM4sapU+yl",
      "include_colab_link": true
    },
    "kernelspec": {
      "name": "python3",
      "display_name": "Python 3"
    },
    "language_info": {
      "name": "python"
    }
  },
  "cells": [
    {
      "cell_type": "markdown",
      "metadata": {
        "id": "view-in-github",
        "colab_type": "text"
      },
      "source": [
        "<a href=\"https://colab.research.google.com/github/Whopie29/CODSOFT/blob/main/RECOMMENDATION_SYSTEM.ipynb\" target=\"_parent\"><img src=\"https://colab.research.google.com/assets/colab-badge.svg\" alt=\"Open In Colab\"/></a>"
      ]
    },
    {
      "cell_type": "code",
      "execution_count": 7,
      "metadata": {
        "colab": {
          "base_uri": "https://localhost:8080/"
        },
        "id": "2ZWaSa0ZU6Ji",
        "outputId": "dafa1272-6f03-4c28-efd7-49ac07108f99"
      },
      "outputs": [
        {
          "output_type": "stream",
          "name": "stdout",
          "text": [
            "User Preferences: [1, 1, 0, 1, 0]\n",
            "Recommended Movies:\n",
            "1. Movie 1\n",
            "2. Movie 3\n",
            "3. Movie 5\n"
          ]
        }
      ],
      "source": [
        "import numpy as np\n",
        "from sklearn.metrics.pairwise import cosine_similarity\n",
        "\n",
        "# Sample movie dataset with genres as features\n",
        "movies = {\n",
        "    'Movie 1': [1, 1, 0, 1, 0],  # Action, Adventure, Comedy, Sci-Fi, Romance\n",
        "    'Movie 2': [0, 1, 1, 0, 0],  # Adventure, Comedy, Drama, Romance, Sci-Fi\n",
        "    'Movie 3': [1, 0, 0, 1, 1],  # Action, Sci-Fi, Romance, Adventure, Comedy\n",
        "    'Movie 4': [0, 0, 1, 0, 1],  # Comedy, Drama, Romance, Adventure, Sci-Fi\n",
        "    'Movie 5': [1, 0, 0, 0, 1],  # Action, Romance, Adventure, Drama, Sci-Fi\n",
        "}\n",
        "\n",
        "# Function to recommend movies based on user preferences\n",
        "def recommend_movies(user_preferences, movies_data, n_recommendations=3):\n",
        "    user_preferences = np.array(user_preferences).reshape(1, -1)\n",
        "    movie_features = np.array(list(movies_data.values()))\n",
        "\n",
        "    # Calculate cosine similarity between user preferences and movie features\n",
        "    similarity_scores = cosine_similarity(user_preferences, movie_features)\n",
        "\n",
        "    # Sort the movies based on similarity scores and get top recommendations\n",
        "    movie_indices = np.argsort(similarity_scores[0])[::-1][:n_recommendations]\n",
        "    recommended_movies = [list(movies_data.keys())[i] for i in movie_indices]\n",
        "\n",
        "    return recommended_movies\n",
        "\n",
        "def main():\n",
        "    # Sample user preferences (Action, Adventure, Comedy, Sci-Fi, Romance)\n",
        "    user_preferences = [1, 1, 0, 1, 0]\n",
        "\n",
        "    print(\"User Preferences:\", user_preferences)\n",
        "\n",
        "    recommendations = recommend_movies(user_preferences, movies, n_recommendations=3)\n",
        "\n",
        "    print(\"Recommended Movies:\")\n",
        "    for i, movie in enumerate(recommendations, 1):\n",
        "        print(f\"{i}. {movie}\")\n",
        "\n",
        "if __name__ == \"__main__\":\n",
        "    main()\n"
      ]
    }
  ]
}